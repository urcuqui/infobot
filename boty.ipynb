{
 "cells": [
  {
   "cell_type": "markdown",
   "id": "younger-edmonton",
   "metadata": {},
   "source": [
    "https://huggingface.co/docs/transformers/model_doc/speech_to_text"
   ]
  },
  {
   "cell_type": "code",
   "execution_count": 1,
   "id": "655895a0-44c0-43d2-998b-a3088595909f",
   "metadata": {},
   "outputs": [
    {
     "data": {
      "text/plain": [
       "{'index': 5,\n",
       " 'structVersion': 2,\n",
       " 'name': 'Auriculares (WH-1000XM4)',\n",
       " 'hostApi': 0,\n",
       " 'maxInputChannels': 0,\n",
       " 'maxOutputChannels': 2,\n",
       " 'defaultLowInputLatency': 0.09,\n",
       " 'defaultLowOutputLatency': 0.09,\n",
       " 'defaultHighInputLatency': 0.18,\n",
       " 'defaultHighOutputLatency': 0.18,\n",
       " 'defaultSampleRate': 44100.0}"
      ]
     },
     "execution_count": 1,
     "metadata": {},
     "output_type": "execute_result"
    }
   ],
   "source": [
    "import pyaudio\n",
    "p = pyaudio.PyAudio()  # Create an interface to PortAudio\n",
    "p.get_default_output_device_info()"
   ]
  },
  {
   "cell_type": "code",
   "execution_count": 2,
   "id": "959734a3-096f-4c06-87c6-e163afb59905",
   "metadata": {},
   "outputs": [
    {
     "name": "stdout",
     "output_type": "stream",
     "text": [
      "(0, 'Asignador de sonido Microsoft - Input', 2)\n",
      "(1, 'Microphone (Realtek(R) Audio)', 2)\n",
      "(2, 'Auriculares con micrÃ³fono (WH-1', 1)\n",
      "(3, 'SteelSeries Sonar - Microphone ', 2)\n",
      "(4, 'Asignador de sonido Microsoft - Output', 0)\n",
      "(5, 'Auriculares (WH-1000XM4)', 0)\n",
      "(6, 'SteelSeries Sonar - Chat (Steel', 0)\n",
      "(7, 'ASUS VN247 (NVIDIA High Definit', 0)\n",
      "(8, 'SteelSeries Sonar - Aux (SteelS', 0)\n",
      "(9, 'SteelSeries Sonar - Gaming (Ste', 0)\n",
      "(10, 'Altavoces (THX Spatial)', 0)\n",
      "(11, 'Altavoces (Realtek(R) Audio)', 0)\n",
      "(12, 'SteelSeries Sonar - Media (Stee', 0)\n",
      "(13, 'SteelSeries Sonar - Microphone ', 0)\n",
      "(14, 'DELL U2421HE (Sonido Intel(R) p', 0)\n",
      "(15, 'Controlador primario de captura de sonido', 2)\n",
      "(16, 'Microphone (Realtek(R) Audio)', 2)\n",
      "(17, 'Auriculares con micrÃ³fono (WH-1000XM4)', 1)\n",
      "(18, 'SteelSeries Sonar - Microphone (SteelSeries Sonar Virtual Audio Device)', 2)\n",
      "(19, 'Controlador primario de sonido', 0)\n",
      "(20, 'Auriculares (WH-1000XM4)', 0)\n",
      "(21, 'SteelSeries Sonar - Chat (SteelSeries Sonar Virtual Audio Device)', 0)\n",
      "(22, 'ASUS VN247 (NVIDIA High Definition Audio)', 0)\n",
      "(23, 'SteelSeries Sonar - Aux (SteelSeries Sonar Virtual Audio Device)', 0)\n",
      "(24, 'SteelSeries Sonar - Gaming (SteelSeries Sonar Virtual Audio Device)', 0)\n",
      "(25, 'Altavoces (THX Spatial)', 0)\n",
      "(26, 'Altavoces (Realtek(R) Audio)', 0)\n",
      "(27, 'SteelSeries Sonar - Media (SteelSeries Sonar Virtual Audio Device)', 0)\n",
      "(28, 'SteelSeries Sonar - Microphone (SteelSeries Sonar Virtual Audio Device)', 0)\n",
      "(29, 'DELL U2421HE (Sonido Intel(R) para pantallas)', 0)\n",
      "(30, 'SteelSeries Sonar - Chat (SteelSeries Sonar Virtual Audio Device)', 0)\n",
      "(31, 'Auriculares (WH-1000XM4)', 0)\n",
      "(32, 'ASUS VN247 (NVIDIA High Definition Audio)', 0)\n",
      "(33, 'SteelSeries Sonar - Aux (SteelSeries Sonar Virtual Audio Device)', 0)\n",
      "(34, 'SteelSeries Sonar - Gaming (SteelSeries Sonar Virtual Audio Device)', 0)\n",
      "(35, 'Altavoces (THX Spatial)', 0)\n",
      "(36, 'Altavoces (Realtek(R) Audio)', 0)\n",
      "(37, 'SteelSeries Sonar - Media (SteelSeries Sonar Virtual Audio Device)', 0)\n",
      "(38, 'SteelSeries Sonar - Microphone (SteelSeries Sonar Virtual Audio Device)', 0)\n",
      "(39, 'DELL U2421HE (Sonido Intel(R) para pantallas)', 0)\n",
      "(40, 'Auriculares con micrÃ³fono (WH-1000XM4)', 1)\n",
      "(41, 'Microphone (Realtek(R) Audio)', 2)\n",
      "(42, 'SteelSeries Sonar - Microphone (SteelSeries Sonar Virtual Audio Device)', 2)\n",
      "(43, 'Output (NVIDIA High Definition Audio)', 0)\n",
      "(44, 'Auriculares con micrÃ³fono (@System32\\\\drivers\\\\bthhfenum.sys,#2;%1 Hands-Free%0\\r\\n;(WH-1000XM4))', 0)\n",
      "(45, 'Auriculares con micrÃ³fono (@System32\\\\drivers\\\\bthhfenum.sys,#2;%1 Hands-Free%0\\r\\n;(WH-1000XM4))', 1)\n",
      "(46, 'Output (Intel(R) Display Audio Output 2.1)', 0)\n",
      "(47, 'Auriculares ()', 0)\n",
      "(48, 'Speakers 1 (THX Spatial Wave Speaker Headphone)', 0)\n",
      "(49, 'Speakers 2 (THX Spatial Wave Speaker Headphone)', 0)\n",
      "(50, 'Input (THX Spatial Wave Speaker Headphone)', 8)\n",
      "(51, 'Speakers (Nahimic mirroring Wave Speaker)', 0)\n",
      "(52, 'Auriculares con micrÃ³fono (@System32\\\\drivers\\\\bthhfenum.sys,#2;%1 Hands-Free%0\\r\\n;(WH-CH500))', 0)\n",
      "(53, 'Auriculares con micrÃ³fono (@System32\\\\drivers\\\\bthhfenum.sys,#2;%1 Hands-Free%0\\r\\n;(WH-CH500))', 1)\n",
      "(54, 'Headphones (SteelSeries_Sonar_VAD Media Wave Speaker)', 0)\n",
      "(55, 'Line Out (SteelSeries_Sonar_VAD Stream Wave)', 0)\n",
      "(56, 'SteelSeries Sonar - Stream (SteelSeries_Sonar_VAD Stream Wave)', 2)\n",
      "(57, 'Line Out (SteelSeries_Sonar_VAD Chat Capture Wave)', 0)\n",
      "(58, 'SteelSeries Sonar - Microphone (SteelSeries_Sonar_VAD Chat Capture Wave)', 2)\n",
      "(59, 'Output (SteelSeries_Sonar_VAD Chat Wave Speaker)', 0)\n",
      "(60, 'Headphones (SteelSeries_Sonar_VAD Aux Wave Speaker)', 0)\n",
      "(61, 'Headphones (SteelSeries_Sonar_VAD Game Wave Speaker)', 0)\n",
      "(62, 'Auriculares con micrÃ³fono (@System32\\\\drivers\\\\bthhfenum.sys,#2;%1 Hands-Free%0\\r\\n;(Crusher Wireless))', 0)\n",
      "(63, 'Auriculares con micrÃ³fono (@System32\\\\drivers\\\\bthhfenum.sys,#2;%1 Hands-Free%0\\r\\n;(Crusher Wireless))', 1)\n",
      "(64, 'MicrÃ³fono (Realtek HD Audio Mic input)', 2)\n",
      "(65, 'Mezcla estÃ©reo (Realtek HD Audio Stereo input)', 2)\n",
      "(66, 'Speakers (Realtek HD Audio output)', 0)\n",
      "(67, 'Auriculares ()', 0)\n",
      "(68, 'Input ()', 2)\n",
      "(69, 'Output (@System32\\\\drivers\\\\bthhfenum.sys,#4;%1 Hands-Free HF Audio%0\\r\\n;(-_-))', 0)\n",
      "(70, 'Input (@System32\\\\drivers\\\\bthhfenum.sys,#4;%1 Hands-Free HF Audio%0\\r\\n;(-_-))', 1)\n",
      "(71, 'Auriculares con micrÃ³fono (@System32\\\\drivers\\\\bthhfenum.sys,#2;%1 Hands-Free%0\\r\\n;(WF-1000XM4))', 0)\n",
      "(72, 'Auriculares con micrÃ³fono (@System32\\\\drivers\\\\bthhfenum.sys,#2;%1 Hands-Free%0\\r\\n;(WF-1000XM4))', 1)\n",
      "(73, 'Auriculares ()', 0)\n",
      "(74, 'Auriculares ()', 0)\n"
     ]
    }
   ],
   "source": [
    "for i in range(p.get_device_count()):\n",
    "  dev = p.get_device_info_by_index(i)\n",
    "  print((i,dev['name'],dev['maxInputChannels']))"
   ]
  },
  {
   "cell_type": "code",
   "execution_count": 11,
   "id": "065297fa-74eb-41eb-be2e-7e3e4bff17eb",
   "metadata": {},
   "outputs": [
    {
     "name": "stdout",
     "output_type": "stream",
     "text": [
      "Recording\n",
      "Finished recording\n"
     ]
    }
   ],
   "source": [
    "import pyaudio\n",
    "import wave\n",
    "\n",
    "chunk = 1024  # Record in chunks of 1024 samples\n",
    "sample_format = pyaudio.paInt16  # 16 bits per sample\n",
    "channels = 1 # Number of audio channels (1 for mono, 2 for stereo)\n",
    "fs = 16000  # Record at 44100 samples per second\n",
    "seconds = 6\n",
    "filename = \"output_two.wav\"\n",
    "\n",
    "p = pyaudio.PyAudio()  # Create an interface to PortAudio\n",
    "\n",
    "print('Recording')\n",
    "\n",
    "stream = p.open(format=sample_format,\n",
    "                channels=channels,\n",
    "                rate=fs,\n",
    "                frames_per_buffer=chunk,\n",
    "                input=True)\n",
    "\n",
    "frames = []  # Initialize array to store frames\n",
    "\n",
    "# Store data in chunks for 3 seconds\n",
    "for i in range(0, int(fs / chunk * seconds)):\n",
    "    data = stream.read(chunk)\n",
    "    frames.append(data)\n",
    "\n",
    "# Stop and close the stream \n",
    "stream.stop_stream()\n",
    "stream.close()\n",
    "# Terminate the PortAudio interface\n",
    "p.terminate()\n",
    "\n",
    "print('Finished recording')\n",
    "\n",
    "# Save the recorded data as a WAV file\n",
    "wf = wave.open(filename, 'wb')\n",
    "wf.setnchannels(channels)\n",
    "wf.setsampwidth(p.get_sample_size(sample_format))\n",
    "wf.setframerate(fs)\n",
    "wf.writeframes(b''.join(frames))\n",
    "wf.close()"
   ]
  },
  {
   "cell_type": "code",
   "execution_count": 7,
   "id": "12498460",
   "metadata": {},
   "outputs": [],
   "source": [
    "from audio2numpy import open_audio\n",
    "path = \"output.wav\"\n",
    "signal, sampling_rate = open_audio(path)"
   ]
  },
  {
   "cell_type": "code",
   "execution_count": 90,
   "id": "bd69ad7f-aaa8-4f59-95e0-947eea26884b",
   "metadata": {},
   "outputs": [
    {
     "data": {
      "text/plain": [
       "16000"
      ]
     },
     "execution_count": 90,
     "metadata": {},
     "output_type": "execute_result"
    }
   ],
   "source": [
    "sampling_rate"
   ]
  },
  {
   "cell_type": "code",
   "execution_count": 8,
   "id": "stunning-independence",
   "metadata": {},
   "outputs": [
    {
     "name": "stderr",
     "output_type": "stream",
     "text": [
      "C:\\Users\\Usuario\\Anaconda3\\envs\\spe_bot\\lib\\site-packages\\tqdm\\auto.py:21: TqdmWarning: IProgress not found. Please update jupyter and ipywidgets. See https://ipywidgets.readthedocs.io/en/stable/user_install.html\n",
      "  from .autonotebook import tqdm as notebook_tqdm\n"
     ]
    }
   ],
   "source": [
    "import torch\n",
    "from transformers import Speech2TextProcessor, Speech2TextForConditionalGeneration\n",
    "from datasets import load_dataset"
   ]
  },
  {
   "cell_type": "code",
   "execution_count": 9,
   "id": "traditional-western",
   "metadata": {},
   "outputs": [
    {
     "name": "stderr",
     "output_type": "stream",
     "text": [
      "Some weights of Speech2TextForConditionalGeneration were not initialized from the model checkpoint at facebook/s2t-small-librispeech-asr and are newly initialized: ['model.decoder.embed_positions.weights', 'model.encoder.embed_positions.weights']\n",
      "You should probably TRAIN this model on a down-stream task to be able to use it for predictions and inference.\n"
     ]
    }
   ],
   "source": [
    "model = Speech2TextForConditionalGeneration.from_pretrained(\"facebook/s2t-small-librispeech-asr\")\n",
    "processor = Speech2TextProcessor.from_pretrained(\"facebook/s2t-small-librispeech-asr\")\n",
    "inputs = processor(signal, sampling_rate=sampling_rate, return_tensors=\"pt\")\n",
    "generated_ids = model.generate(inputs[\"input_features\"], attention_mask=inputs[\"attention_mask\"])\n",
    "transcription = processor.batch_decode(generated_ids, skip_special_tokens=True)"
   ]
  },
  {
   "cell_type": "code",
   "execution_count": 10,
   "id": "chubby-review",
   "metadata": {},
   "outputs": [
    {
     "data": {
      "text/plain": [
       "['to get the information from the next i p others']"
      ]
     },
     "execution_count": 10,
     "metadata": {},
     "output_type": "execute_result"
    }
   ],
   "source": [
    "transcription"
   ]
  },
  {
   "cell_type": "code",
   "execution_count": 34,
   "id": "flexible-praise",
   "metadata": {},
   "outputs": [],
   "source": [
    "#ds = load_dataset(\"hf-internal-testing/librispeech_asr_demo\", \"clean\", split=\"validation\")"
   ]
  },
  {
   "cell_type": "code",
   "execution_count": 108,
   "id": "57f5d892-b9d5-40ec-a1fa-eea21cc54893",
   "metadata": {},
   "outputs": [],
   "source": []
  },
  {
   "cell_type": "code",
   "execution_count": 25,
   "id": "authentic-guide",
   "metadata": {},
   "outputs": [],
   "source": [
    "#inputs = processor(ds[0][\"audio\"][\"array\"], sampling_rate=ds[0][\"audio\"][\"sampling_rate\"], return_tensors=\"pt\")"
   ]
  },
  {
   "cell_type": "code",
   "execution_count": null,
   "id": "dfb54671-ea6c-4237-9d8e-ced10d8ff87a",
   "metadata": {},
   "outputs": [],
   "source": [
    "model_path = \"whiterabbitneo/WhiteRabbitNeo-13B-v1\" # over 25GB in 6 files"
   ]
  },
  {
   "cell_type": "markdown",
   "id": "interested-contract",
   "metadata": {},
   "source": [
    "***"
   ]
  },
  {
   "cell_type": "code",
   "execution_count": 16,
   "id": "basic-volunteer",
   "metadata": {},
   "outputs": [
    {
     "data": {
      "text/plain": [
       "16000"
      ]
     },
     "execution_count": 16,
     "metadata": {},
     "output_type": "execute_result"
    }
   ],
   "source": [
    "ds[0][\"audio\"][\"sampling_rate\"]"
   ]
  },
  {
   "cell_type": "code",
   "execution_count": 15,
   "id": "experienced-nutrition",
   "metadata": {},
   "outputs": [
    {
     "data": {
      "text/plain": [
       "array([0.00238037, 0.0020752 , 0.00198364, ..., 0.00042725, 0.00057983,\n",
       "       0.0010376 ])"
      ]
     },
     "execution_count": 15,
     "metadata": {},
     "output_type": "execute_result"
    }
   ],
   "source": [
    "ds[0][\"audio\"][\"array\"]"
   ]
  },
  {
   "cell_type": "markdown",
   "id": "amended-access",
   "metadata": {},
   "source": [
    "+ https://pypi.org/project/audio2numpy/\n",
    "+ https://realpython.com/python-speech-recognition/"
   ]
  },
  {
   "cell_type": "code",
   "execution_count": 9,
   "id": "64f48c76-7286-4dc0-8111-b019af1f3493",
   "metadata": {},
   "outputs": [
    {
     "name": "stdout",
     "output_type": "stream",
     "text": [
      "Recording\n",
      "Finished recording\n"
     ]
    }
   ],
   "source": []
  },
  {
   "cell_type": "code",
   "execution_count": 5,
   "id": "c4566cb9-6386-4c1e-aeb8-2c5ba822fef1",
   "metadata": {},
   "outputs": [
    {
     "name": "stdout",
     "output_type": "stream",
     "text": [
      " El volumen de la unidad D es Kuky\n",
      " El n£mero de serie del volumen es: 3A98-E69F\n",
      "\n",
      " Directorio de D:\\Github\\infobot\n",
      "\n",
      "23/01/2024  10:04 p. m.    <DIR>          .\n",
      "21/01/2024  06:01 p. m.    <DIR>          ..\n",
      "21/01/2024  06:38 p. m.    <DIR>          .ipynb_checkpoints\n",
      "23/01/2024  10:02 p. m.            11.609 boty.ipynb\n",
      "23/01/2024  10:04 p. m.           880.684 output.wav\n",
      "21/01/2024  06:02 p. m.                62 README.md\n",
      "21/01/2024  06:38 p. m.             6.330 req.txt\n",
      "               4 archivos        898.685 bytes\n",
      "               3 dirs  198.792.372.224 bytes libres\n"
     ]
    }
   ],
   "source": [
    "!dir"
   ]
  },
  {
   "cell_type": "code",
   "execution_count": 1,
   "id": "cb0337b7",
   "metadata": {},
   "outputs": [
    {
     "name": "stderr",
     "output_type": "stream",
     "text": [
      "C:\\Users\\Usuario\\Anaconda3\\envs\\spe_bot\\lib\\site-packages\\tqdm\\auto.py:21: TqdmWarning: IProgress not found. Please update jupyter and ipywidgets. See https://ipywidgets.readthedocs.io/en/stable/user_install.html\n",
      "  from .autonotebook import tqdm as notebook_tqdm\n",
      "model.safetensors: 100%|██████████████████████████████████████████████████████████| 1.51G/1.51G [00:22<00:00, 66.4MB/s]\n",
      "C:\\Users\\Usuario\\Anaconda3\\envs\\spe_bot\\lib\\site-packages\\huggingface_hub\\file_download.py:149: UserWarning: `huggingface_hub` cache-system uses symlinks by default to efficiently store duplicated files but your machine does not support them in C:\\Users\\Usuario\\.cache\\huggingface\\hub\\models--distil-whisper--distil-large-v2. Caching files will still work but in a degraded version that might require more space on your disk. This warning can be disabled by setting the `HF_HUB_DISABLE_SYMLINKS_WARNING` environment variable. For more details, see https://huggingface.co/docs/huggingface_hub/how-to-cache#limitations.\n",
      "To support symlinks on Windows, you either need to activate Developer Mode or to run Python as an administrator. In order to see activate developer mode, see this article: https://docs.microsoft.com/en-us/windows/apps/get-started/enable-your-device-for-development\n",
      "  warnings.warn(message)\n",
      "generation_config.json: 100%|█████████████████████████████████████████████████████| 3.62k/3.62k [00:00<00:00, 3.63MB/s]\n",
      "config.json: 100%|████████████████████████████████████████████████████████████████████████| 1.99k/1.99k [00:00<?, ?B/s]\n",
      "C:\\Users\\Usuario\\Anaconda3\\envs\\spe_bot\\lib\\site-packages\\huggingface_hub\\file_download.py:149: UserWarning: `huggingface_hub` cache-system uses symlinks by default to efficiently store duplicated files but your machine does not support them in C:\\Users\\Usuario\\.cache\\huggingface\\hub\\models--openai--whisper-large-v2. Caching files will still work but in a degraded version that might require more space on your disk. This warning can be disabled by setting the `HF_HUB_DISABLE_SYMLINKS_WARNING` environment variable. For more details, see https://huggingface.co/docs/huggingface_hub/how-to-cache#limitations.\n",
      "To support symlinks on Windows, you either need to activate Developer Mode or to run Python as an administrator. In order to see activate developer mode, see this article: https://docs.microsoft.com/en-us/windows/apps/get-started/enable-your-device-for-development\n",
      "  warnings.warn(message)\n",
      "model.safetensors: 100%|██████████████████████████████████████████████████████████| 6.17G/6.17G [02:09<00:00, 47.6MB/s]\n",
      "generation_config.json: 100%|█████████████████████████████████████████████████████| 4.29k/4.29k [00:00<00:00, 4.31MB/s]\n",
      "preprocessor_config.json: 100%|█████████████████████████████████████████████████████| 185k/185k [00:00<00:00, 1.53MB/s]\n",
      "tokenizer_config.json: 100%|██████████████████████████████████████████████████████████████████| 805/805 [00:00<?, ?B/s]\n",
      "vocab.json: 100%|█████████████████████████████████████████████████████████████████| 1.04M/1.04M [00:00<00:00, 3.64MB/s]\n",
      "tokenizer.json: 100%|█████████████████████████████████████████████████████████████| 2.48M/2.48M [00:00<00:00, 39.4MB/s]\n",
      "merges.txt: 100%|███████████████████████████████████████████████████████████████████| 494k/494k [00:00<00:00, 2.51MB/s]\n",
      "normalizer.json: 100%|████████████████████████████████████████████████████████████████████| 52.7k/52.7k [00:00<?, ?B/s]\n",
      "added_tokens.json: 100%|███████████████████████████████████████████████████████████| 34.6k/34.6k [00:00<00:00, 557kB/s]\n",
      "special_tokens_map.json: 100%|████████████████████████████████████████████████████| 2.08k/2.08k [00:00<00:00, 3.82MB/s]\n"
     ]
    }
   ],
   "source": [
    "from transformers import pipeline, AutoModelForCausalLM, AutoModelForSpeechSeq2Seq, AutoProcessor\n",
    "import torch\n",
    "\n",
    "device = \"cuda:0\" if torch.cuda.is_available() else \"cpu\"\n",
    "torch_dtype = torch.float16 if torch.cuda.is_available() else torch.float32\n",
    "\n",
    "assistant_model_id = \"distil-whisper/distil-large-v2\"\n",
    "\n",
    "assistant_model = AutoModelForCausalLM.from_pretrained(\n",
    "    assistant_model_id, torch_dtype=torch_dtype, low_cpu_mem_usage=True, use_safetensors=True\n",
    ")\n",
    "assistant_model.to(device)\n",
    "\n",
    "model_id = \"openai/whisper-large-v2\"\n",
    "\n",
    "model = AutoModelForSpeechSeq2Seq.from_pretrained(\n",
    "    model_id, torch_dtype=torch_dtype, low_cpu_mem_usage=True, use_safetensors=True\n",
    ")\n",
    "model.to(device)\n",
    "\n",
    "processor = AutoProcessor.from_pretrained(model_id)\n",
    "\n",
    "pipe = pipeline(\n",
    "    \"automatic-speech-recognition\",\n",
    "    model=model,\n",
    "    tokenizer=processor.tokenizer,\n",
    "    feature_extractor=processor.feature_extractor,\n",
    "    max_new_tokens=128,\n",
    "    generate_kwargs={\"assistant_model\": assistant_model},\n",
    "    torch_dtype=torch_dtype,\n",
    "    device=device,\n",
    ")"
   ]
  },
  {
   "cell_type": "code",
   "execution_count": 2,
   "id": "e0eec603-627e-49a7-a9cc-c945baf0469e",
   "metadata": {},
   "outputs": [],
   "source": [
    "from audio2numpy import open_audio\n",
    "path = \"output.wav\"\n",
    "signal, sampling_rate = open_audio(path)"
   ]
  },
  {
   "cell_type": "code",
   "execution_count": 3,
   "id": "14a002e7-0afc-45b9-a140-488b54ed3d73",
   "metadata": {},
   "outputs": [],
   "source": [
    "prediction = pipe(signal, batch_size=8)[\"text\"]"
   ]
  },
  {
   "cell_type": "code",
   "execution_count": 4,
   "id": "0b37bd95-4d53-4c9f-bdd4-4bf490018414",
   "metadata": {},
   "outputs": [
    {
     "data": {
      "text/plain": [
       "' to get the information from the next IP address'"
      ]
     },
     "execution_count": 4,
     "metadata": {},
     "output_type": "execute_result"
    }
   ],
   "source": [
    "prediction"
   ]
  }
 ],
 "metadata": {
  "kernelspec": {
   "display_name": "Python 3 (ipykernel)",
   "language": "python",
   "name": "python3"
  },
  "language_info": {
   "codemirror_mode": {
    "name": "ipython",
    "version": 3
   },
   "file_extension": ".py",
   "mimetype": "text/x-python",
   "name": "python",
   "nbconvert_exporter": "python",
   "pygments_lexer": "ipython3",
   "version": "3.10.13"
  }
 },
 "nbformat": 4,
 "nbformat_minor": 5
}
