{
 "cells": [
  {
   "cell_type": "markdown",
   "id": "younger-edmonton",
   "metadata": {},
   "source": [
    "https://huggingface.co/docs/transformers/model_doc/speech_to_text"
   ]
  },
  {
   "cell_type": "code",
   "execution_count": 41,
   "id": "d5691f3f-9ee0-49cd-a8d7-3dd496df9085",
   "metadata": {},
   "outputs": [],
   "source": [
    "from subprocess import call\n"
   ]
  },
  {
   "cell_type": "code",
   "execution_count": 54,
   "id": "655895a0-44c0-43d2-998b-a3088595909f",
   "metadata": {},
   "outputs": [
    {
     "data": {
      "text/plain": [
       "{'index': 5,\n",
       " 'structVersion': 2,\n",
       " 'name': 'Auriculares (WH-1000XM4)',\n",
       " 'hostApi': 0,\n",
       " 'maxInputChannels': 0,\n",
       " 'maxOutputChannels': 2,\n",
       " 'defaultLowInputLatency': 0.09,\n",
       " 'defaultLowOutputLatency': 0.09,\n",
       " 'defaultHighInputLatency': 0.18,\n",
       " 'defaultHighOutputLatency': 0.18,\n",
       " 'defaultSampleRate': 44100.0}"
      ]
     },
     "execution_count": 54,
     "metadata": {},
     "output_type": "execute_result"
    }
   ],
   "source": [
    "p.get_default_output_device_info()"
   ]
  },
  {
   "cell_type": "code",
   "execution_count": 60,
   "id": "959734a3-096f-4c06-87c6-e163afb59905",
   "metadata": {},
   "outputs": [
    {
     "name": "stdout",
     "output_type": "stream",
     "text": [
      "(0, 'Asignador de sonido Microsoft - Input', 2)\n",
      "(1, 'Microphone (Realtek(R) Audio)', 2)\n",
      "(2, 'SteelSeries Sonar - Microphone ', 2)\n",
      "(3, 'Auriculares con micrÃ³fono (WH-1', 1)\n",
      "(4, 'Asignador de sonido Microsoft - Output', 0)\n",
      "(5, 'Auriculares (WH-1000XM4)', 0)\n",
      "(6, 'Altavoces (Realtek(R) Audio)', 0)\n",
      "(7, 'SteelSeries Sonar - Chat (Steel', 0)\n",
      "(8, 'SteelSeries Sonar - Aux (SteelS', 0)\n",
      "(9, 'SteelSeries Sonar - Gaming (Ste', 0)\n",
      "(10, 'Altavoces (THX Spatial)', 0)\n",
      "(11, 'ASUS VN247 (NVIDIA High Definit', 0)\n",
      "(12, 'SteelSeries Sonar - Media (Stee', 0)\n",
      "(13, 'SteelSeries Sonar - Microphone ', 0)\n",
      "(14, 'DELL U2421HE (Sonido Intel(R) p', 0)\n",
      "(15, 'Controlador primario de captura de sonido', 2)\n",
      "(16, 'Microphone (Realtek(R) Audio)', 2)\n",
      "(17, 'SteelSeries Sonar - Microphone (SteelSeries Sonar Virtual Audio Device)', 2)\n",
      "(18, 'Auriculares con micrÃ³fono (WH-1000XM4)', 1)\n",
      "(19, 'Controlador primario de sonido', 0)\n",
      "(20, 'Auriculares (WH-1000XM4)', 0)\n",
      "(21, 'SteelSeries Sonar - Chat (SteelSeries Sonar Virtual Audio Device)', 0)\n",
      "(22, 'SteelSeries Sonar - Aux (SteelSeries Sonar Virtual Audio Device)', 0)\n",
      "(23, 'SteelSeries Sonar - Gaming (SteelSeries Sonar Virtual Audio Device)', 0)\n",
      "(24, 'Altavoces (THX Spatial)', 0)\n",
      "(25, 'ASUS VN247 (NVIDIA High Definition Audio)', 0)\n",
      "(26, 'Altavoces (Realtek(R) Audio)', 0)\n",
      "(27, 'SteelSeries Sonar - Media (SteelSeries Sonar Virtual Audio Device)', 0)\n",
      "(28, 'SteelSeries Sonar - Microphone (SteelSeries Sonar Virtual Audio Device)', 0)\n",
      "(29, 'DELL U2421HE (Sonido Intel(R) para pantallas)', 0)\n",
      "(30, 'SteelSeries Sonar - Chat (SteelSeries Sonar Virtual Audio Device)', 0)\n",
      "(31, 'Auriculares (WH-1000XM4)', 0)\n",
      "(32, 'SteelSeries Sonar - Aux (SteelSeries Sonar Virtual Audio Device)', 0)\n",
      "(33, 'SteelSeries Sonar - Gaming (SteelSeries Sonar Virtual Audio Device)', 0)\n",
      "(34, 'Altavoces (THX Spatial)', 0)\n",
      "(35, 'ASUS VN247 (NVIDIA High Definition Audio)', 0)\n",
      "(36, 'Altavoces (Realtek(R) Audio)', 0)\n",
      "(37, 'SteelSeries Sonar - Media (SteelSeries Sonar Virtual Audio Device)', 0)\n",
      "(38, 'SteelSeries Sonar - Microphone (SteelSeries Sonar Virtual Audio Device)', 0)\n",
      "(39, 'DELL U2421HE (Sonido Intel(R) para pantallas)', 0)\n",
      "(40, 'Auriculares con micrÃ³fono (WH-1000XM4)', 1)\n",
      "(41, 'Microphone (Realtek(R) Audio)', 2)\n",
      "(42, 'SteelSeries Sonar - Microphone (SteelSeries Sonar Virtual Audio Device)', 2)\n",
      "(43, 'Output (NVIDIA High Definition Audio)', 0)\n",
      "(44, 'Auriculares con micrÃ³fono (@System32\\\\drivers\\\\bthhfenum.sys,#2;%1 Hands-Free%0\\r\\n;(WH-1000XM4))', 0)\n",
      "(45, 'Auriculares con micrÃ³fono (@System32\\\\drivers\\\\bthhfenum.sys,#2;%1 Hands-Free%0\\r\\n;(WH-1000XM4))', 1)\n",
      "(46, 'Output (Intel(R) Display Audio Output 2.1)', 0)\n",
      "(47, 'Auriculares ()', 0)\n",
      "(48, 'Speakers 1 (THX Spatial Wave Speaker Headphone)', 0)\n",
      "(49, 'Speakers 2 (THX Spatial Wave Speaker Headphone)', 0)\n",
      "(50, 'Input (THX Spatial Wave Speaker Headphone)', 8)\n",
      "(51, 'Speakers (Nahimic mirroring Wave Speaker)', 0)\n",
      "(52, 'Auriculares con micrÃ³fono (@System32\\\\drivers\\\\bthhfenum.sys,#2;%1 Hands-Free%0\\r\\n;(WH-CH500))', 0)\n",
      "(53, 'Auriculares con micrÃ³fono (@System32\\\\drivers\\\\bthhfenum.sys,#2;%1 Hands-Free%0\\r\\n;(WH-CH500))', 1)\n",
      "(54, 'Headphones (SteelSeries_Sonar_VAD Media Wave Speaker)', 0)\n",
      "(55, 'Line Out (SteelSeries_Sonar_VAD Stream Wave)', 0)\n",
      "(56, 'SteelSeries Sonar - Stream (SteelSeries_Sonar_VAD Stream Wave)', 2)\n",
      "(57, 'Line Out (SteelSeries_Sonar_VAD Chat Capture Wave)', 0)\n",
      "(58, 'SteelSeries Sonar - Microphone (SteelSeries_Sonar_VAD Chat Capture Wave)', 2)\n",
      "(59, 'Output (SteelSeries_Sonar_VAD Chat Wave Speaker)', 0)\n",
      "(60, 'Headphones (SteelSeries_Sonar_VAD Aux Wave Speaker)', 0)\n",
      "(61, 'Headphones (SteelSeries_Sonar_VAD Game Wave Speaker)', 0)\n",
      "(62, 'Auriculares con micrÃ³fono (@System32\\\\drivers\\\\bthhfenum.sys,#2;%1 Hands-Free%0\\r\\n;(Crusher Wireless))', 0)\n",
      "(63, 'Auriculares con micrÃ³fono (@System32\\\\drivers\\\\bthhfenum.sys,#2;%1 Hands-Free%0\\r\\n;(Crusher Wireless))', 1)\n",
      "(64, 'MicrÃ³fono (Realtek HD Audio Mic input)', 2)\n",
      "(65, 'Mezcla estÃ©reo (Realtek HD Audio Stereo input)', 2)\n",
      "(66, 'Speakers (Realtek HD Audio output)', 0)\n",
      "(67, 'Auriculares ()', 0)\n",
      "(68, 'Input ()', 2)\n",
      "(69, 'Output (@System32\\\\drivers\\\\bthhfenum.sys,#4;%1 Hands-Free HF Audio%0\\r\\n;(-_-))', 0)\n",
      "(70, 'Input (@System32\\\\drivers\\\\bthhfenum.sys,#4;%1 Hands-Free HF Audio%0\\r\\n;(-_-))', 1)\n",
      "(71, 'Auriculares con micrÃ³fono (@System32\\\\drivers\\\\bthhfenum.sys,#2;%1 Hands-Free%0\\r\\n;(WF-1000XM4))', 0)\n",
      "(72, 'Auriculares con micrÃ³fono (@System32\\\\drivers\\\\bthhfenum.sys,#2;%1 Hands-Free%0\\r\\n;(WF-1000XM4))', 1)\n",
      "(73, 'Auriculares ()', 0)\n",
      "(74, 'Auriculares ()', 0)\n"
     ]
    }
   ],
   "source": [
    "for i in range(p.get_device_count()):\n",
    "  dev = p.get_device_info_by_index(i)\n",
    "  print((i,dev['name'],dev['maxInputChannels']))"
   ]
  },
  {
   "cell_type": "code",
   "execution_count": null,
   "id": "065297fa-74eb-41eb-be2e-7e3e4bff17eb",
   "metadata": {},
   "outputs": [
    {
     "name": "stdout",
     "output_type": "stream",
     "text": [
      "Recording\n"
     ]
    }
   ],
   "source": [
    "import pyaudio\n",
    "import wave\n",
    "\n",
    "chunk = 1024  # Record in chunks of 1024 samples\n",
    "sample_format = pyaudio.paInt16  # 16 bits per sample\n",
    "channels = 1 #2\n",
    "fs = 16000  # Record at 44100 samples per second\n",
    "seconds = 6\n",
    "filename = \"output.wav\"\n",
    "\n",
    "p = pyaudio.PyAudio()  # Create an interface to PortAudio\n",
    "\n",
    "print('Recording')\n",
    "\n",
    "stream = p.open(format=sample_format,\n",
    "                channels=channels,\n",
    "                rate=fs,\n",
    "                frames_per_buffer=chunk,\n",
    "                input_device_index=40,\n",
    "                input=True)\n",
    "\n",
    "frames = []  # Initialize array to store frames\n",
    "\n",
    "# Store data in chunks for 3 seconds\n",
    "for i in range(0, int(fs / chunk * seconds)):\n",
    "    data = stream.read(chunk)\n",
    "    frames.append(data)\n",
    "\n",
    "# Stop and close the stream \n",
    "stream.stop_stream()\n",
    "stream.close()\n",
    "# Terminate the PortAudio interface\n",
    "p.terminate()\n",
    "\n",
    "print('Finished recording')\n",
    "\n",
    "# Save the recorded data as a WAV file\n",
    "wf = wave.open(filename, 'wb')\n",
    "wf.setnchannels(channels)\n",
    "wf.setsampwidth(p.get_sample_size(sample_format))\n",
    "wf.setframerate(fs)\n",
    "wf.writeframes(b''.join(frames))\n",
    "wf.close()"
   ]
  },
  {
   "cell_type": "code",
   "execution_count": 101,
   "id": "12498460",
   "metadata": {},
   "outputs": [],
   "source": [
    "from audio2numpy import open_audio\n",
    "path = \"output.wav\"\n",
    "signal, sampling_rate = open_audio(path)"
   ]
  },
  {
   "cell_type": "code",
   "execution_count": 90,
   "id": "bd69ad7f-aaa8-4f59-95e0-947eea26884b",
   "metadata": {},
   "outputs": [
    {
     "data": {
      "text/plain": [
       "16000"
      ]
     },
     "execution_count": 90,
     "metadata": {},
     "output_type": "execute_result"
    }
   ],
   "source": [
    "sampling_rate"
   ]
  },
  {
   "cell_type": "code",
   "execution_count": 32,
   "id": "stunning-independence",
   "metadata": {},
   "outputs": [],
   "source": [
    "import torch\n",
    "from transformers import Speech2TextProcessor, Speech2TextForConditionalGeneration\n",
    "from datasets import load_dataset"
   ]
  },
  {
   "cell_type": "code",
   "execution_count": 33,
   "id": "traditional-western",
   "metadata": {},
   "outputs": [
    {
     "name": "stderr",
     "output_type": "stream",
     "text": [
      "Some weights of Speech2TextForConditionalGeneration were not initialized from the model checkpoint at facebook/s2t-small-librispeech-asr and are newly initialized: ['model.decoder.embed_positions.weights', 'model.encoder.embed_positions.weights']\n",
      "You should probably TRAIN this model on a down-stream task to be able to use it for predictions and inference.\n"
     ]
    }
   ],
   "source": [
    "model = Speech2TextForConditionalGeneration.from_pretrained(\"facebook/s2t-small-librispeech-asr\")"
   ]
  },
  {
   "cell_type": "code",
   "execution_count": 22,
   "id": "chubby-review",
   "metadata": {},
   "outputs": [],
   "source": [
    "processor = Speech2TextProcessor.from_pretrained(\"facebook/s2t-small-librispeech-asr\")"
   ]
  },
  {
   "cell_type": "code",
   "execution_count": 34,
   "id": "flexible-praise",
   "metadata": {},
   "outputs": [],
   "source": [
    "#ds = load_dataset(\"hf-internal-testing/librispeech_asr_demo\", \"clean\", split=\"validation\")"
   ]
  },
  {
   "cell_type": "code",
   "execution_count": 102,
   "id": "57f5d892-b9d5-40ec-a1fa-eea21cc54893",
   "metadata": {},
   "outputs": [],
   "source": [
    "inputs = processor(signal, sampling_rate=sampling_rate, return_tensors=\"pt\")"
   ]
  },
  {
   "cell_type": "code",
   "execution_count": 25,
   "id": "authentic-guide",
   "metadata": {},
   "outputs": [],
   "source": [
    "#inputs = processor(ds[0][\"audio\"][\"array\"], sampling_rate=ds[0][\"audio\"][\"sampling_rate\"], return_tensors=\"pt\")"
   ]
  },
  {
   "cell_type": "code",
   "execution_count": 103,
   "id": "optical-mainland",
   "metadata": {},
   "outputs": [],
   "source": [
    "generated_ids = model.generate(inputs[\"input_features\"], attention_mask=inputs[\"attention_mask\"])"
   ]
  },
  {
   "cell_type": "code",
   "execution_count": 104,
   "id": "adverse-supervisor",
   "metadata": {},
   "outputs": [],
   "source": [
    "transcription = processor.batch_decode(generated_ids, skip_special_tokens=True)"
   ]
  },
  {
   "cell_type": "code",
   "execution_count": 105,
   "id": "mysterious-gazette",
   "metadata": {},
   "outputs": [
    {
     "data": {
      "text/plain": [
       "['together the information from the phoenix i b others']"
      ]
     },
     "execution_count": 105,
     "metadata": {},
     "output_type": "execute_result"
    }
   ],
   "source": [
    "transcription"
   ]
  },
  {
   "cell_type": "markdown",
   "id": "interested-contract",
   "metadata": {},
   "source": [
    "***"
   ]
  },
  {
   "cell_type": "code",
   "execution_count": 16,
   "id": "basic-volunteer",
   "metadata": {},
   "outputs": [
    {
     "data": {
      "text/plain": [
       "16000"
      ]
     },
     "execution_count": 16,
     "metadata": {},
     "output_type": "execute_result"
    }
   ],
   "source": [
    "ds[0][\"audio\"][\"sampling_rate\"]"
   ]
  },
  {
   "cell_type": "code",
   "execution_count": 15,
   "id": "experienced-nutrition",
   "metadata": {},
   "outputs": [
    {
     "data": {
      "text/plain": [
       "array([0.00238037, 0.0020752 , 0.00198364, ..., 0.00042725, 0.00057983,\n",
       "       0.0010376 ])"
      ]
     },
     "execution_count": 15,
     "metadata": {},
     "output_type": "execute_result"
    }
   ],
   "source": [
    "ds[0][\"audio\"][\"array\"]"
   ]
  },
  {
   "cell_type": "markdown",
   "id": "amended-access",
   "metadata": {},
   "source": [
    "+ https://pypi.org/project/audio2numpy/\n",
    "+ https://realpython.com/python-speech-recognition/"
   ]
  },
  {
   "cell_type": "code",
   "execution_count": 9,
   "id": "64f48c76-7286-4dc0-8111-b019af1f3493",
   "metadata": {},
   "outputs": [
    {
     "name": "stdout",
     "output_type": "stream",
     "text": [
      "Recording\n",
      "Finished recording\n"
     ]
    }
   ],
   "source": []
  },
  {
   "cell_type": "code",
   "execution_count": 5,
   "id": "c4566cb9-6386-4c1e-aeb8-2c5ba822fef1",
   "metadata": {},
   "outputs": [
    {
     "name": "stdout",
     "output_type": "stream",
     "text": [
      " El volumen de la unidad D es Kuky\n",
      " El n£mero de serie del volumen es: 3A98-E69F\n",
      "\n",
      " Directorio de D:\\Github\\infobot\n",
      "\n",
      "23/01/2024  10:04 p. m.    <DIR>          .\n",
      "21/01/2024  06:01 p. m.    <DIR>          ..\n",
      "21/01/2024  06:38 p. m.    <DIR>          .ipynb_checkpoints\n",
      "23/01/2024  10:02 p. m.            11.609 boty.ipynb\n",
      "23/01/2024  10:04 p. m.           880.684 output.wav\n",
      "21/01/2024  06:02 p. m.                62 README.md\n",
      "21/01/2024  06:38 p. m.             6.330 req.txt\n",
      "               4 archivos        898.685 bytes\n",
      "               3 dirs  198.792.372.224 bytes libres\n"
     ]
    }
   ],
   "source": [
    "!dir"
   ]
  },
  {
   "cell_type": "code",
   "execution_count": 7,
   "id": "cb0337b7",
   "metadata": {},
   "outputs": [
    {
     "ename": "AttributeError",
     "evalue": "'bytes' object has no attribute 'astype'",
     "output_type": "error",
     "traceback": [
      "\u001b[0;31m---------------------------------------------------------------------------\u001b[0m",
      "\u001b[0;31mAttributeError\u001b[0m                            Traceback (most recent call last)",
      "\u001b[1;32m/Users/curcuqui/Documents/GitHub/infobot/boty.ipynb Celda 21\u001b[0m line \u001b[0;36m3\n\u001b[1;32m      <a href='vscode-notebook-cell:/Users/curcuqui/Documents/GitHub/infobot/boty.ipynb#X25sZmlsZQ%3D%3D?line=0'>1</a>\u001b[0m \u001b[39mimport\u001b[39;00m \u001b[39mnumpy\u001b[39;00m \u001b[39mas\u001b[39;00m \u001b[39mnp\u001b[39;00m\n\u001b[0;32m----> <a href='vscode-notebook-cell:/Users/curcuqui/Documents/GitHub/infobot/boty.ipynb#X25sZmlsZQ%3D%3D?line=2'>3</a>\u001b[0m data22 \u001b[39m=\u001b[39m data\u001b[39m.\u001b[39;49mastype(np\u001b[39m.\u001b[39mfloat32)\u001b[39m.\u001b[39mtostring()\n\u001b[1;32m      <a href='vscode-notebook-cell:/Users/curcuqui/Documents/GitHub/infobot/boty.ipynb#X25sZmlsZQ%3D%3D?line=3'>4</a>\u001b[0m stream\u001b[39m.\u001b[39mwrite(data22)\n",
      "\u001b[0;31mAttributeError\u001b[0m: 'bytes' object has no attribute 'astype'"
     ]
    }
   ],
   "source": [
    "P = pyaudio.PyAudio()\n",
    "\n",
    "stream = P.open(rate=fs, format=pyaudio.paInt16, channels=1, output=True)\n",
    "stream.write(x.tobytes())\n",
    "\n",
    "stream.close() # this blocks until sound finishes playing\n",
    "\n",
    "P.terminate()"
   ]
  }
 ],
 "metadata": {
  "kernelspec": {
   "display_name": "Python 3 (ipykernel)",
   "language": "python",
   "name": "python3"
  },
  "language_info": {
   "codemirror_mode": {
    "name": "ipython",
    "version": 3
   },
   "file_extension": ".py",
   "mimetype": "text/x-python",
   "name": "python",
   "nbconvert_exporter": "python",
   "pygments_lexer": "ipython3",
   "version": "3.10.13"
  }
 },
 "nbformat": 4,
 "nbformat_minor": 5
}
